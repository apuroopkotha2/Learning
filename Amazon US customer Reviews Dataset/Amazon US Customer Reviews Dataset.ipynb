{
 "cells": [
  {
   "cell_type": "code",
   "execution_count": 1,
   "id": "c9dbbc95",
   "metadata": {},
   "outputs": [],
   "source": [
    "# basic import statements\n",
    "import os\n",
    "import re\n",
    "import gc\n",
    "import warnings\n",
    "import numpy as np\n",
    "import pandas as pd\n",
    "import collections\n",
    "warnings.filterwarnings(\"ignore\")\n",
    "from datetime import date \n",
    "\n",
    "#set max display in notebook\n",
    "pd.set_option('display.max_rows', 500)\n",
    "pd.set_option('display.max_columns', 500)\n",
    "pd.set_option('display.width', 1000)\n",
    "\n",
    "#Show multiple output in console\n",
    "from IPython.core.interactiveshell import InteractiveShell\n",
    "InteractiveShell.ast_node_interactivity = 'all'"
   ]
  },
  {
   "cell_type": "code",
   "execution_count": 15,
   "id": "742bc597",
   "metadata": {
    "scrolled": true
   },
   "outputs": [
    {
     "name": "stderr",
     "output_type": "stream",
     "text": [
      "b'Skipping line 49396: expected 15 fields, saw 22\\nSkipping line 57008: expected 15 fields, saw 22\\n'\n",
      "b'Skipping line 82075: expected 15 fields, saw 22\\nSkipping line 104435: expected 15 fields, saw 22\\nSkipping line 109766: expected 15 fields, saw 22\\nSkipping line 124024: expected 15 fields, saw 22\\nSkipping line 129914: expected 15 fields, saw 22\\nSkipping line 130172: expected 15 fields, saw 22\\n'\n",
      "b'Skipping line 161515: expected 15 fields, saw 22\\n'\n",
      "b'Skipping line 230464: expected 15 fields, saw 22\\n'\n",
      "b'Skipping line 292640: expected 15 fields, saw 22\\nSkipping line 293681: expected 15 fields, saw 22\\nSkipping line 316511: expected 15 fields, saw 22\\nSkipping line 317239: expected 15 fields, saw 22\\nSkipping line 326099: expected 15 fields, saw 22\\nSkipping line 327595: expected 15 fields, saw 22\\n'\n",
      "b'Skipping line 342645: expected 15 fields, saw 22\\nSkipping line 347980: expected 15 fields, saw 22\\nSkipping line 376258: expected 15 fields, saw 22\\nSkipping line 381192: expected 15 fields, saw 22\\nSkipping line 386485: expected 15 fields, saw 22\\n'\n",
      "b'Skipping line 407400: expected 15 fields, saw 22\\nSkipping line 416310: expected 15 fields, saw 22\\nSkipping line 416980: expected 15 fields, saw 22\\nSkipping line 455682: expected 15 fields, saw 22\\n'\n",
      "b'Skipping line 472662: expected 15 fields, saw 22\\n'\n",
      "b'Skipping line 539038: expected 15 fields, saw 22\\nSkipping line 580519: expected 15 fields, saw 22\\n'\n",
      "b'Skipping line 635125: expected 15 fields, saw 22\\n'\n",
      "b'Skipping line 723898: expected 15 fields, saw 22\\nSkipping line 760157: expected 15 fields, saw 22\\n'\n",
      "b'Skipping line 789445: expected 15 fields, saw 22\\nSkipping line 796985: expected 15 fields, saw 22\\nSkipping line 810160: expected 15 fields, saw 22\\n'\n",
      "b'Skipping line 880731: expected 15 fields, saw 22\\nSkipping line 894334: expected 15 fields, saw 22\\n'\n",
      "b'Skipping line 921347: expected 15 fields, saw 22\\nSkipping line 931127: expected 15 fields, saw 22\\n'\n",
      "b'Skipping line 1008439: expected 15 fields, saw 22\\nSkipping line 1037655: expected 15 fields, saw 22\\n'\n",
      "b'Skipping line 1055998: expected 15 fields, saw 22\\n'\n",
      "b'Skipping line 1188632: expected 15 fields, saw 22\\nSkipping line 1233723: expected 15 fields, saw 22\\nSkipping line 1244463: expected 15 fields, saw 22\\n'\n",
      "b'Skipping line 1507887: expected 15 fields, saw 22\\nSkipping line 1564930: expected 15 fields, saw 22\\n'\n",
      "b'Skipping line 1807298: expected 15 fields, saw 22\\nSkipping line 1829193: expected 15 fields, saw 22\\n'\n",
      "b'Skipping line 1868798: expected 15 fields, saw 22\\n'\n",
      "b'Skipping line 1904329: expected 15 fields, saw 22\\nSkipping line 1935010: expected 15 fields, saw 22\\nSkipping line 1957592: expected 15 fields, saw 22\\nSkipping line 1965838: expected 15 fields, saw 22\\n'\n",
      "b'Skipping line 1976381: expected 15 fields, saw 22\\nSkipping line 2014993: expected 15 fields, saw 22\\n'\n",
      "b'Skipping line 2037893: expected 15 fields, saw 22\\n'\n",
      "b'Skipping line 2437394: expected 15 fields, saw 22\\n'\n",
      "b'Skipping line 2538052: expected 15 fields, saw 22\\n'\n",
      "b'Skipping line 2569847: expected 15 fields, saw 22\\n'\n",
      "b'Skipping line 2759787: expected 15 fields, saw 22\\n'\n",
      "b'Skipping line 2987929: expected 15 fields, saw 22\\n'\n",
      "b'Skipping line 3174718: expected 15 fields, saw 22\\n'\n",
      "b'Skipping line 3259703: expected 15 fields, saw 22\\n'\n",
      "b'Skipping line 3424140: expected 15 fields, saw 22\\nSkipping line 3430150: expected 15 fields, saw 22\\n'\n",
      "b'Skipping line 3489349: expected 15 fields, saw 22\\nSkipping line 3529163: expected 15 fields, saw 22\\n'\n",
      "b'Skipping line 3730489: expected 15 fields, saw 22\\n'\n",
      "b'Skipping line 4073027: expected 15 fields, saw 22\\nSkipping line 4127350: expected 15 fields, saw 22\\n'\n",
      "b'Skipping line 4508712: expected 15 fields, saw 22\\n'\n",
      "b'Skipping line 5115619: expected 15 fields, saw 22\\n'\n",
      "b'Skipping line 5279907: expected 15 fields, saw 22\\n'\n",
      "b'Skipping line 5318712: expected 15 fields, saw 22\\n'\n",
      "b'Skipping line 5432514: expected 15 fields, saw 22\\n'\n",
      "b'Skipping line 5568417: expected 15 fields, saw 22\\n'\n",
      "b'Skipping line 5840248: expected 15 fields, saw 22\\n'\n"
     ]
    },
    {
     "data": {
      "text/html": [
       "<div>\n",
       "<style scoped>\n",
       "    .dataframe tbody tr th:only-of-type {\n",
       "        vertical-align: middle;\n",
       "    }\n",
       "\n",
       "    .dataframe tbody tr th {\n",
       "        vertical-align: top;\n",
       "    }\n",
       "\n",
       "    .dataframe thead th {\n",
       "        text-align: right;\n",
       "    }\n",
       "</style>\n",
       "<table border=\"1\" class=\"dataframe\">\n",
       "  <thead>\n",
       "    <tr style=\"text-align: right;\">\n",
       "      <th></th>\n",
       "      <th>marketplace</th>\n",
       "      <th>customer_id</th>\n",
       "      <th>review_id</th>\n",
       "      <th>product_id</th>\n",
       "      <th>product_parent</th>\n",
       "      <th>product_title</th>\n",
       "      <th>product_category</th>\n",
       "      <th>star_rating</th>\n",
       "      <th>helpful_votes</th>\n",
       "      <th>total_votes</th>\n",
       "      <th>vine</th>\n",
       "      <th>verified_purchase</th>\n",
       "      <th>review_headline</th>\n",
       "      <th>review_body</th>\n",
       "      <th>review_date</th>\n",
       "    </tr>\n",
       "  </thead>\n",
       "  <tbody>\n",
       "    <tr>\n",
       "      <th>0</th>\n",
       "      <td>US</td>\n",
       "      <td>32158956</td>\n",
       "      <td>R1KKOXHNI8MSXU</td>\n",
       "      <td>B01KL6O72Y</td>\n",
       "      <td>24485154</td>\n",
       "      <td>Easy Tool Stainless Steel Fruit Pineapple Core...</td>\n",
       "      <td>Apparel</td>\n",
       "      <td>4.0</td>\n",
       "      <td>0.0</td>\n",
       "      <td>0.0</td>\n",
       "      <td>N</td>\n",
       "      <td>Y</td>\n",
       "      <td>★ THESE REALLY DO WORK GREAT WITH SOME TWEAKING ★</td>\n",
       "      <td>These Really Do Work Great, But You Do Need To...</td>\n",
       "      <td>2013-01-14</td>\n",
       "    </tr>\n",
       "    <tr>\n",
       "      <th>1</th>\n",
       "      <td>US</td>\n",
       "      <td>2714559</td>\n",
       "      <td>R26SP2OPDK4HT7</td>\n",
       "      <td>B01ID3ZS5W</td>\n",
       "      <td>363128556</td>\n",
       "      <td>V28 Women Cowl Neck Knit Stretchable Elasticit...</td>\n",
       "      <td>Apparel</td>\n",
       "      <td>5.0</td>\n",
       "      <td>1.0</td>\n",
       "      <td>2.0</td>\n",
       "      <td>N</td>\n",
       "      <td>Y</td>\n",
       "      <td>Favorite for winter. Very warm!</td>\n",
       "      <td>I love this dress. Absolute favorite for winte...</td>\n",
       "      <td>2014-03-04</td>\n",
       "    </tr>\n",
       "    <tr>\n",
       "      <th>2</th>\n",
       "      <td>US</td>\n",
       "      <td>12608825</td>\n",
       "      <td>RWQEDYAX373I1</td>\n",
       "      <td>B01I497BGY</td>\n",
       "      <td>811958549</td>\n",
       "      <td>James Fiallo Men's 12-Pairs Low Cut Athletic S...</td>\n",
       "      <td>Apparel</td>\n",
       "      <td>5.0</td>\n",
       "      <td>0.0</td>\n",
       "      <td>0.0</td>\n",
       "      <td>N</td>\n",
       "      <td>Y</td>\n",
       "      <td>Great Socks for the money.</td>\n",
       "      <td>Nice socks, great colors, just enough support ...</td>\n",
       "      <td>2015-07-12</td>\n",
       "    </tr>\n",
       "    <tr>\n",
       "      <th>3</th>\n",
       "      <td>US</td>\n",
       "      <td>25482800</td>\n",
       "      <td>R231YI7R4GPF6J</td>\n",
       "      <td>B01HDXFZK6</td>\n",
       "      <td>692205728</td>\n",
       "      <td>Belfry Gangster 100% Wool Stain-Resistant Crus...</td>\n",
       "      <td>Apparel</td>\n",
       "      <td>5.0</td>\n",
       "      <td>0.0</td>\n",
       "      <td>0.0</td>\n",
       "      <td>N</td>\n",
       "      <td>Y</td>\n",
       "      <td>Slick hat!</td>\n",
       "      <td>I bought this for my husband and WOW, this is ...</td>\n",
       "      <td>2015-06-03</td>\n",
       "    </tr>\n",
       "    <tr>\n",
       "      <th>4</th>\n",
       "      <td>US</td>\n",
       "      <td>9310286</td>\n",
       "      <td>R3KO3W45DD0L1K</td>\n",
       "      <td>B01G6MBEBY</td>\n",
       "      <td>431150422</td>\n",
       "      <td>JAEDEN Women's Beaded Spaghetti Straps Sexy Lo...</td>\n",
       "      <td>Apparel</td>\n",
       "      <td>5.0</td>\n",
       "      <td>0.0</td>\n",
       "      <td>0.0</td>\n",
       "      <td>N</td>\n",
       "      <td>Y</td>\n",
       "      <td>I would do it again!</td>\n",
       "      <td>Perfect dress and the customer service was awe...</td>\n",
       "      <td>2015-06-12</td>\n",
       "    </tr>\n",
       "  </tbody>\n",
       "</table>\n",
       "</div>"
      ],
      "text/plain": [
       "  marketplace  customer_id       review_id  product_id  product_parent                                      product_title product_category  star_rating  helpful_votes  total_votes vine verified_purchase                                    review_headline                                        review_body review_date\n",
       "0          US     32158956  R1KKOXHNI8MSXU  B01KL6O72Y        24485154  Easy Tool Stainless Steel Fruit Pineapple Core...          Apparel          4.0            0.0          0.0    N                 Y  ★ THESE REALLY DO WORK GREAT WITH SOME TWEAKING ★  These Really Do Work Great, But You Do Need To...  2013-01-14\n",
       "1          US      2714559  R26SP2OPDK4HT7  B01ID3ZS5W       363128556  V28 Women Cowl Neck Knit Stretchable Elasticit...          Apparel          5.0            1.0          2.0    N                 Y                    Favorite for winter. Very warm!  I love this dress. Absolute favorite for winte...  2014-03-04\n",
       "2          US     12608825   RWQEDYAX373I1  B01I497BGY       811958549  James Fiallo Men's 12-Pairs Low Cut Athletic S...          Apparel          5.0            0.0          0.0    N                 Y                         Great Socks for the money.  Nice socks, great colors, just enough support ...  2015-07-12\n",
       "3          US     25482800  R231YI7R4GPF6J  B01HDXFZK6       692205728  Belfry Gangster 100% Wool Stain-Resistant Crus...          Apparel          5.0            0.0          0.0    N                 Y                                         Slick hat!  I bought this for my husband and WOW, this is ...  2015-06-03\n",
       "4          US      9310286  R3KO3W45DD0L1K  B01G6MBEBY       431150422  JAEDEN Women's Beaded Spaghetti Straps Sexy Lo...          Apparel          5.0            0.0          0.0    N                 Y                               I would do it again!  Perfect dress and the customer service was awe...  2015-06-12"
      ]
     },
     "execution_count": 15,
     "metadata": {},
     "output_type": "execute_result"
    },
    {
     "data": {
      "text/plain": [
       "(5881874, 15)"
      ]
     },
     "execution_count": 15,
     "metadata": {},
     "output_type": "execute_result"
    }
   ],
   "source": [
    "# reading the dataset \n",
    "df = pd.read_csv('amazon_reviews_us_Apparel_v1_00.tsv', sep = '\\t',  error_bad_lines=False)\n",
    "df.shape\n",
    "df.head()"
   ]
  },
  {
   "cell_type": "markdown",
   "id": "a9adf1e0",
   "metadata": {},
   "source": [
    "### Content\n",
    "##### marketplace:- 2 letter country code of the marketplace where the review was written.\n",
    "##### customer_id:- Random identifier that can be used to aggregate reviews written by a single author.\n",
    "##### review_id:- The unique ID of the review.\n",
    "##### product_id:- The unique Product ID the review pertains to. In the multilingual dataset the reviews for the same product in different countries can be grouped by the same product_id.\n",
    "##### product_parent:- Random identifier that can be used to aggregate reviews for the same product.\n",
    "##### product_title:- Title of the product.\n",
    "##### product_category:- Broad product category that can be used to group reviews(also used to group the dataset into coherent parts).\n",
    "##### star_rating:- The 1-5 star rating of the review.\n",
    "##### helpful_votes:- Number of helpful votes.\n",
    "##### total_votes:- Number of total votes the review received.\n",
    "##### vine:- Review was written as part of the Vine program.\n",
    "##### verified_purchase:- The review is on a verified purchase.\n",
    "##### review_headline:- The title of the review.\n",
    "##### review_body:- The review text.\n",
    "##### review_date:- The date the review was written."
   ]
  },
  {
   "cell_type": "markdown",
   "id": "f9b1b784",
   "metadata": {},
   "source": [
    "### Understanding the dataset "
   ]
  },
  {
   "cell_type": "code",
   "execution_count": 20,
   "id": "5ccff083",
   "metadata": {},
   "outputs": [
    {
     "data": {
      "text/plain": [
       "marketplace           object\n",
       "customer_id            int64\n",
       "review_id             object\n",
       "product_id            object\n",
       "product_parent         int64\n",
       "product_title         object\n",
       "product_category      object\n",
       "star_rating          float64\n",
       "helpful_votes        float64\n",
       "total_votes          float64\n",
       "vine                  object\n",
       "verified_purchase     object\n",
       "review_headline       object\n",
       "review_body           object\n",
       "review_date           object\n",
       "dtype: object"
      ]
     },
     "execution_count": 20,
     "metadata": {},
     "output_type": "execute_result"
    }
   ],
   "source": [
    "df.dtypes"
   ]
  },
  {
   "cell_type": "code",
   "execution_count": 24,
   "id": "bb4e27fb",
   "metadata": {},
   "outputs": [],
   "source": [
    "# converting the object to datetime \n",
    "df['review_date'] = pd.to_datetime(df['review_date'])"
   ]
  },
  {
   "cell_type": "code",
   "execution_count": 4,
   "id": "90a2226f",
   "metadata": {},
   "outputs": [
    {
     "data": {
      "text/plain": [
       "Apparel       5881873\n",
       "2011-08-04          1\n",
       "Name: product_category, dtype: int64"
      ]
     },
     "execution_count": 4,
     "metadata": {},
     "output_type": "execute_result"
    }
   ],
   "source": [
    "# getting to know the count \n",
    "df.product_category.value_counts()"
   ]
  },
  {
   "cell_type": "code",
   "execution_count": 16,
   "id": "1dfeec2c",
   "metadata": {
    "scrolled": true
   },
   "outputs": [
    {
     "data": {
      "text/plain": [
       "12"
      ]
     },
     "execution_count": 16,
     "metadata": {},
     "output_type": "execute_result"
    },
    {
     "data": {
      "text/html": [
       "<div>\n",
       "<style scoped>\n",
       "    .dataframe tbody tr th:only-of-type {\n",
       "        vertical-align: middle;\n",
       "    }\n",
       "\n",
       "    .dataframe tbody tr th {\n",
       "        vertical-align: top;\n",
       "    }\n",
       "\n",
       "    .dataframe thead th {\n",
       "        text-align: right;\n",
       "    }\n",
       "</style>\n",
       "<table border=\"1\" class=\"dataframe\">\n",
       "  <thead>\n",
       "    <tr style=\"text-align: right;\">\n",
       "      <th></th>\n",
       "      <th>marketplace</th>\n",
       "      <th>customer_id</th>\n",
       "      <th>review_id</th>\n",
       "      <th>product_id</th>\n",
       "      <th>product_parent</th>\n",
       "      <th>product_title</th>\n",
       "      <th>product_category</th>\n",
       "      <th>star_rating</th>\n",
       "      <th>helpful_votes</th>\n",
       "      <th>total_votes</th>\n",
       "      <th>vine</th>\n",
       "      <th>verified_purchase</th>\n",
       "      <th>review_headline</th>\n",
       "      <th>review_body</th>\n",
       "      <th>review_date</th>\n",
       "    </tr>\n",
       "  </thead>\n",
       "  <tbody>\n",
       "    <tr>\n",
       "      <th>2057069</th>\n",
       "      <td>US</td>\n",
       "      <td>31066166</td>\n",
       "      <td>RXOXMCG7FC6H9</td>\n",
       "      <td>B00FRHQ8DE</td>\n",
       "      <td>226468496</td>\n",
       "      <td>NaN</td>\n",
       "      <td>Apparel</td>\n",
       "      <td>4.0</td>\n",
       "      <td>0.0</td>\n",
       "      <td>0.0</td>\n",
       "      <td>N</td>\n",
       "      <td>Y</td>\n",
       "      <td>nice tee.</td>\n",
       "      <td>5 Y.O. loves this. washes well. nice tee.</td>\n",
       "      <td>2015-08-13</td>\n",
       "    </tr>\n",
       "    <tr>\n",
       "      <th>3456219</th>\n",
       "      <td>US</td>\n",
       "      <td>11676819</td>\n",
       "      <td>R1UZ28EB5L4J2X</td>\n",
       "      <td>B0091K6J5U</td>\n",
       "      <td>874311479</td>\n",
       "      <td>NaN</td>\n",
       "      <td>Apparel</td>\n",
       "      <td>4.0</td>\n",
       "      <td>0.0</td>\n",
       "      <td>0.0</td>\n",
       "      <td>N</td>\n",
       "      <td>Y</td>\n",
       "      <td>Looked great!</td>\n",
       "      <td>My family and I all went as a group of Ninja T...</td>\n",
       "      <td>2013-11-14</td>\n",
       "    </tr>\n",
       "    <tr>\n",
       "      <th>4266530</th>\n",
       "      <td>US</td>\n",
       "      <td>22298646</td>\n",
       "      <td>R3JBU6LK2H6RVP</td>\n",
       "      <td>B005HBC4GK</td>\n",
       "      <td>172240882</td>\n",
       "      <td>NaN</td>\n",
       "      <td>Apparel</td>\n",
       "      <td>5.0</td>\n",
       "      <td>0.0</td>\n",
       "      <td>0.0</td>\n",
       "      <td>N</td>\n",
       "      <td>Y</td>\n",
       "      <td>wow..love love love it</td>\n",
       "      <td>I bought one mudium size wallet before..Love i...</td>\n",
       "      <td>2013-09-05</td>\n",
       "    </tr>\n",
       "    <tr>\n",
       "      <th>4574558</th>\n",
       "      <td>US</td>\n",
       "      <td>24125287</td>\n",
       "      <td>R1VQNEGPSTLIZT</td>\n",
       "      <td>B004L6S3P8</td>\n",
       "      <td>957973758</td>\n",
       "      <td>NaN</td>\n",
       "      <td>Apparel</td>\n",
       "      <td>5.0</td>\n",
       "      <td>7.0</td>\n",
       "      <td>7.0</td>\n",
       "      <td>N</td>\n",
       "      <td>Y</td>\n",
       "      <td>BEST PAJAMAS I HAVE EVER GIVEN MY LADY, TRUST ...</td>\n",
       "      <td>SILKY SMOOTH BEST EVER, PACKAGING WAS BAUTIFUL...</td>\n",
       "      <td>2011-09-18</td>\n",
       "    </tr>\n",
       "    <tr>\n",
       "      <th>4574559</th>\n",
       "      <td>US</td>\n",
       "      <td>11312068</td>\n",
       "      <td>RBT8FHIIMWYXB</td>\n",
       "      <td>B004L6S3P8</td>\n",
       "      <td>957973758</td>\n",
       "      <td>NaN</td>\n",
       "      <td>Apparel</td>\n",
       "      <td>5.0</td>\n",
       "      <td>1.0</td>\n",
       "      <td>1.0</td>\n",
       "      <td>N</td>\n",
       "      <td>Y</td>\n",
       "      <td>Winning!!</td>\n",
       "      <td>This was a gift for my girlfriend (although I ...</td>\n",
       "      <td>2012-01-17</td>\n",
       "    </tr>\n",
       "    <tr>\n",
       "      <th>4574560</th>\n",
       "      <td>US</td>\n",
       "      <td>22681496</td>\n",
       "      <td>RM7C2WEXDG8I3</td>\n",
       "      <td>B004L6S3P8</td>\n",
       "      <td>957973758</td>\n",
       "      <td>NaN</td>\n",
       "      <td>Apparel</td>\n",
       "      <td>5.0</td>\n",
       "      <td>1.0</td>\n",
       "      <td>1.0</td>\n",
       "      <td>N</td>\n",
       "      <td>Y</td>\n",
       "      <td>Completly exceeded my expectations!</td>\n",
       "      <td>The pajama's came in a beautiful box.  The com...</td>\n",
       "      <td>2011-03-17</td>\n",
       "    </tr>\n",
       "    <tr>\n",
       "      <th>4574653</th>\n",
       "      <td>US</td>\n",
       "      <td>19052279</td>\n",
       "      <td>R1YJKPR1514ASV</td>\n",
       "      <td>B004L6NDKI</td>\n",
       "      <td>303715829</td>\n",
       "      <td>NaN</td>\n",
       "      <td>Apparel</td>\n",
       "      <td>5.0</td>\n",
       "      <td>1.0</td>\n",
       "      <td>1.0</td>\n",
       "      <td>N</td>\n",
       "      <td>Y</td>\n",
       "      <td>silk pajamas</td>\n",
       "      <td>Very comfortable thankyou Although the sleeves...</td>\n",
       "      <td>2011-10-03</td>\n",
       "    </tr>\n",
       "    <tr>\n",
       "      <th>4574654</th>\n",
       "      <td>US</td>\n",
       "      <td>40404975</td>\n",
       "      <td>R3FI6MBA3E7KF6</td>\n",
       "      <td>B004L6NDGW</td>\n",
       "      <td>858482646</td>\n",
       "      <td>NaN</td>\n",
       "      <td>Apparel</td>\n",
       "      <td>4.0</td>\n",
       "      <td>2.0</td>\n",
       "      <td>3.0</td>\n",
       "      <td>N</td>\n",
       "      <td>Y</td>\n",
       "      <td>I love silk!</td>\n",
       "      <td>The silk pj's I purchased are lovely, but a li...</td>\n",
       "      <td>2011-12-21</td>\n",
       "    </tr>\n",
       "    <tr>\n",
       "      <th>4954464</th>\n",
       "      <td>US</td>\n",
       "      <td>52729995</td>\n",
       "      <td>R1BZ32ZOPBINJH</td>\n",
       "      <td>B003690PPM</td>\n",
       "      <td>272676701</td>\n",
       "      <td>NaN</td>\n",
       "      <td>Apparel</td>\n",
       "      <td>5.0</td>\n",
       "      <td>0.0</td>\n",
       "      <td>0.0</td>\n",
       "      <td>N</td>\n",
       "      <td>Y</td>\n",
       "      <td>LOVE These socks!  Better than the johnny's</td>\n",
       "      <td>I LOVE these socks. I have gotten SO many comp...</td>\n",
       "      <td>2011-04-04</td>\n",
       "    </tr>\n",
       "    <tr>\n",
       "      <th>5138255</th>\n",
       "      <td>US</td>\n",
       "      <td>44564829</td>\n",
       "      <td>R30UUMOZKBRRXX</td>\n",
       "      <td>B002E79P12</td>\n",
       "      <td>850795213</td>\n",
       "      <td>NaN</td>\n",
       "      <td>Apparel</td>\n",
       "      <td>5.0</td>\n",
       "      <td>0.0</td>\n",
       "      <td>0.0</td>\n",
       "      <td>N</td>\n",
       "      <td>Y</td>\n",
       "      <td>Awesome!</td>\n",
       "      <td>This is a great costume with a great fit. I wa...</td>\n",
       "      <td>2013-11-14</td>\n",
       "    </tr>\n",
       "    <tr>\n",
       "      <th>5138256</th>\n",
       "      <td>US</td>\n",
       "      <td>14697306</td>\n",
       "      <td>R1QNVLI8DC44NZ</td>\n",
       "      <td>B002E79P12</td>\n",
       "      <td>850795213</td>\n",
       "      <td>NaN</td>\n",
       "      <td>Apparel</td>\n",
       "      <td>4.0</td>\n",
       "      <td>0.0</td>\n",
       "      <td>0.0</td>\n",
       "      <td>N</td>\n",
       "      <td>Y</td>\n",
       "      <td>very nice affordable costume</td>\n",
       "      <td>its a good product for the price. She is a lit...</td>\n",
       "      <td>2013-11-04</td>\n",
       "    </tr>\n",
       "    <tr>\n",
       "      <th>5456282</th>\n",
       "      <td>US</td>\n",
       "      <td>45621978</td>\n",
       "      <td>R2UHXP9LKUWN2W</td>\n",
       "      <td>B0013EARY6</td>\n",
       "      <td>200061153</td>\n",
       "      <td>NaN</td>\n",
       "      <td>Apparel</td>\n",
       "      <td>1.0</td>\n",
       "      <td>0.0</td>\n",
       "      <td>0.0</td>\n",
       "      <td>N</td>\n",
       "      <td>N</td>\n",
       "      <td>do not buy from here.</td>\n",
       "      <td>DO NOT BUY FROM BLANK APPAREL.   I RECENTLY OR...</td>\n",
       "      <td>2009-04-30</td>\n",
       "    </tr>\n",
       "  </tbody>\n",
       "</table>\n",
       "</div>"
      ],
      "text/plain": [
       "        marketplace  customer_id       review_id  product_id  product_parent product_title product_category  star_rating  helpful_votes  total_votes vine verified_purchase                                    review_headline                                        review_body review_date\n",
       "2057069          US     31066166   RXOXMCG7FC6H9  B00FRHQ8DE       226468496           NaN          Apparel          4.0            0.0          0.0    N                 Y                                          nice tee.          5 Y.O. loves this. washes well. nice tee.  2015-08-13\n",
       "3456219          US     11676819  R1UZ28EB5L4J2X  B0091K6J5U       874311479           NaN          Apparel          4.0            0.0          0.0    N                 Y                                      Looked great!  My family and I all went as a group of Ninja T...  2013-11-14\n",
       "4266530          US     22298646  R3JBU6LK2H6RVP  B005HBC4GK       172240882           NaN          Apparel          5.0            0.0          0.0    N                 Y                             wow..love love love it  I bought one mudium size wallet before..Love i...  2013-09-05\n",
       "4574558          US     24125287  R1VQNEGPSTLIZT  B004L6S3P8       957973758           NaN          Apparel          5.0            7.0          7.0    N                 Y  BEST PAJAMAS I HAVE EVER GIVEN MY LADY, TRUST ...  SILKY SMOOTH BEST EVER, PACKAGING WAS BAUTIFUL...  2011-09-18\n",
       "4574559          US     11312068   RBT8FHIIMWYXB  B004L6S3P8       957973758           NaN          Apparel          5.0            1.0          1.0    N                 Y                                          Winning!!  This was a gift for my girlfriend (although I ...  2012-01-17\n",
       "4574560          US     22681496   RM7C2WEXDG8I3  B004L6S3P8       957973758           NaN          Apparel          5.0            1.0          1.0    N                 Y                Completly exceeded my expectations!  The pajama's came in a beautiful box.  The com...  2011-03-17\n",
       "4574653          US     19052279  R1YJKPR1514ASV  B004L6NDKI       303715829           NaN          Apparel          5.0            1.0          1.0    N                 Y                                       silk pajamas  Very comfortable thankyou Although the sleeves...  2011-10-03\n",
       "4574654          US     40404975  R3FI6MBA3E7KF6  B004L6NDGW       858482646           NaN          Apparel          4.0            2.0          3.0    N                 Y                                       I love silk!  The silk pj's I purchased are lovely, but a li...  2011-12-21\n",
       "4954464          US     52729995  R1BZ32ZOPBINJH  B003690PPM       272676701           NaN          Apparel          5.0            0.0          0.0    N                 Y        LOVE These socks!  Better than the johnny's  I LOVE these socks. I have gotten SO many comp...  2011-04-04\n",
       "5138255          US     44564829  R30UUMOZKBRRXX  B002E79P12       850795213           NaN          Apparel          5.0            0.0          0.0    N                 Y                                           Awesome!  This is a great costume with a great fit. I wa...  2013-11-14\n",
       "5138256          US     14697306  R1QNVLI8DC44NZ  B002E79P12       850795213           NaN          Apparel          4.0            0.0          0.0    N                 Y                       very nice affordable costume  its a good product for the price. She is a lit...  2013-11-04\n",
       "5456282          US     45621978  R2UHXP9LKUWN2W  B0013EARY6       200061153           NaN          Apparel          1.0            0.0          0.0    N                 N                              do not buy from here.  DO NOT BUY FROM BLANK APPAREL.   I RECENTLY OR...  2009-04-30"
      ]
     },
     "execution_count": 16,
     "metadata": {},
     "output_type": "execute_result"
    }
   ],
   "source": [
    "# checking if there are any NULLS \n",
    "df['product_title'].isnull().sum()\n",
    "df[df['product_title'].isnull()]"
   ]
  },
  {
   "cell_type": "code",
   "execution_count": 17,
   "id": "335e4368",
   "metadata": {
    "scrolled": true
   },
   "outputs": [
    {
     "data": {
      "text/plain": [
       "12"
      ]
     },
     "execution_count": 17,
     "metadata": {},
     "output_type": "execute_result"
    },
    {
     "data": {
      "text/html": [
       "<div>\n",
       "<style scoped>\n",
       "    .dataframe tbody tr th:only-of-type {\n",
       "        vertical-align: middle;\n",
       "    }\n",
       "\n",
       "    .dataframe tbody tr th {\n",
       "        vertical-align: top;\n",
       "    }\n",
       "\n",
       "    .dataframe thead th {\n",
       "        text-align: right;\n",
       "    }\n",
       "</style>\n",
       "<table border=\"1\" class=\"dataframe\">\n",
       "  <thead>\n",
       "    <tr style=\"text-align: right;\">\n",
       "      <th></th>\n",
       "      <th>marketplace</th>\n",
       "      <th>customer_id</th>\n",
       "      <th>review_id</th>\n",
       "      <th>product_id</th>\n",
       "      <th>product_parent</th>\n",
       "      <th>product_title</th>\n",
       "      <th>product_category</th>\n",
       "      <th>star_rating</th>\n",
       "      <th>helpful_votes</th>\n",
       "      <th>total_votes</th>\n",
       "      <th>vine</th>\n",
       "      <th>verified_purchase</th>\n",
       "      <th>review_headline</th>\n",
       "      <th>review_body</th>\n",
       "      <th>review_date</th>\n",
       "    </tr>\n",
       "  </thead>\n",
       "  <tbody>\n",
       "    <tr>\n",
       "      <th>2057069</th>\n",
       "      <td>US</td>\n",
       "      <td>31066166</td>\n",
       "      <td>RXOXMCG7FC6H9</td>\n",
       "      <td>B00FRHQ8DE</td>\n",
       "      <td>226468496</td>\n",
       "      <td>NaN</td>\n",
       "      <td>Apparel</td>\n",
       "      <td>4.0</td>\n",
       "      <td>0.0</td>\n",
       "      <td>0.0</td>\n",
       "      <td>N</td>\n",
       "      <td>Y</td>\n",
       "      <td>nice tee.</td>\n",
       "      <td>5 Y.O. loves this. washes well. nice tee.</td>\n",
       "      <td>2015-08-13</td>\n",
       "    </tr>\n",
       "    <tr>\n",
       "      <th>3456219</th>\n",
       "      <td>US</td>\n",
       "      <td>11676819</td>\n",
       "      <td>R1UZ28EB5L4J2X</td>\n",
       "      <td>B0091K6J5U</td>\n",
       "      <td>874311479</td>\n",
       "      <td>NaN</td>\n",
       "      <td>Apparel</td>\n",
       "      <td>4.0</td>\n",
       "      <td>0.0</td>\n",
       "      <td>0.0</td>\n",
       "      <td>N</td>\n",
       "      <td>Y</td>\n",
       "      <td>Looked great!</td>\n",
       "      <td>My family and I all went as a group of Ninja T...</td>\n",
       "      <td>2013-11-14</td>\n",
       "    </tr>\n",
       "    <tr>\n",
       "      <th>4266530</th>\n",
       "      <td>US</td>\n",
       "      <td>22298646</td>\n",
       "      <td>R3JBU6LK2H6RVP</td>\n",
       "      <td>B005HBC4GK</td>\n",
       "      <td>172240882</td>\n",
       "      <td>NaN</td>\n",
       "      <td>Apparel</td>\n",
       "      <td>5.0</td>\n",
       "      <td>0.0</td>\n",
       "      <td>0.0</td>\n",
       "      <td>N</td>\n",
       "      <td>Y</td>\n",
       "      <td>wow..love love love it</td>\n",
       "      <td>I bought one mudium size wallet before..Love i...</td>\n",
       "      <td>2013-09-05</td>\n",
       "    </tr>\n",
       "    <tr>\n",
       "      <th>4574558</th>\n",
       "      <td>US</td>\n",
       "      <td>24125287</td>\n",
       "      <td>R1VQNEGPSTLIZT</td>\n",
       "      <td>B004L6S3P8</td>\n",
       "      <td>957973758</td>\n",
       "      <td>NaN</td>\n",
       "      <td>Apparel</td>\n",
       "      <td>5.0</td>\n",
       "      <td>7.0</td>\n",
       "      <td>7.0</td>\n",
       "      <td>N</td>\n",
       "      <td>Y</td>\n",
       "      <td>BEST PAJAMAS I HAVE EVER GIVEN MY LADY, TRUST ...</td>\n",
       "      <td>SILKY SMOOTH BEST EVER, PACKAGING WAS BAUTIFUL...</td>\n",
       "      <td>2011-09-18</td>\n",
       "    </tr>\n",
       "    <tr>\n",
       "      <th>4574559</th>\n",
       "      <td>US</td>\n",
       "      <td>11312068</td>\n",
       "      <td>RBT8FHIIMWYXB</td>\n",
       "      <td>B004L6S3P8</td>\n",
       "      <td>957973758</td>\n",
       "      <td>NaN</td>\n",
       "      <td>Apparel</td>\n",
       "      <td>5.0</td>\n",
       "      <td>1.0</td>\n",
       "      <td>1.0</td>\n",
       "      <td>N</td>\n",
       "      <td>Y</td>\n",
       "      <td>Winning!!</td>\n",
       "      <td>This was a gift for my girlfriend (although I ...</td>\n",
       "      <td>2012-01-17</td>\n",
       "    </tr>\n",
       "    <tr>\n",
       "      <th>4574560</th>\n",
       "      <td>US</td>\n",
       "      <td>22681496</td>\n",
       "      <td>RM7C2WEXDG8I3</td>\n",
       "      <td>B004L6S3P8</td>\n",
       "      <td>957973758</td>\n",
       "      <td>NaN</td>\n",
       "      <td>Apparel</td>\n",
       "      <td>5.0</td>\n",
       "      <td>1.0</td>\n",
       "      <td>1.0</td>\n",
       "      <td>N</td>\n",
       "      <td>Y</td>\n",
       "      <td>Completly exceeded my expectations!</td>\n",
       "      <td>The pajama's came in a beautiful box.  The com...</td>\n",
       "      <td>2011-03-17</td>\n",
       "    </tr>\n",
       "    <tr>\n",
       "      <th>4574653</th>\n",
       "      <td>US</td>\n",
       "      <td>19052279</td>\n",
       "      <td>R1YJKPR1514ASV</td>\n",
       "      <td>B004L6NDKI</td>\n",
       "      <td>303715829</td>\n",
       "      <td>NaN</td>\n",
       "      <td>Apparel</td>\n",
       "      <td>5.0</td>\n",
       "      <td>1.0</td>\n",
       "      <td>1.0</td>\n",
       "      <td>N</td>\n",
       "      <td>Y</td>\n",
       "      <td>silk pajamas</td>\n",
       "      <td>Very comfortable thankyou Although the sleeves...</td>\n",
       "      <td>2011-10-03</td>\n",
       "    </tr>\n",
       "    <tr>\n",
       "      <th>4574654</th>\n",
       "      <td>US</td>\n",
       "      <td>40404975</td>\n",
       "      <td>R3FI6MBA3E7KF6</td>\n",
       "      <td>B004L6NDGW</td>\n",
       "      <td>858482646</td>\n",
       "      <td>NaN</td>\n",
       "      <td>Apparel</td>\n",
       "      <td>4.0</td>\n",
       "      <td>2.0</td>\n",
       "      <td>3.0</td>\n",
       "      <td>N</td>\n",
       "      <td>Y</td>\n",
       "      <td>I love silk!</td>\n",
       "      <td>The silk pj's I purchased are lovely, but a li...</td>\n",
       "      <td>2011-12-21</td>\n",
       "    </tr>\n",
       "    <tr>\n",
       "      <th>4954464</th>\n",
       "      <td>US</td>\n",
       "      <td>52729995</td>\n",
       "      <td>R1BZ32ZOPBINJH</td>\n",
       "      <td>B003690PPM</td>\n",
       "      <td>272676701</td>\n",
       "      <td>NaN</td>\n",
       "      <td>Apparel</td>\n",
       "      <td>5.0</td>\n",
       "      <td>0.0</td>\n",
       "      <td>0.0</td>\n",
       "      <td>N</td>\n",
       "      <td>Y</td>\n",
       "      <td>LOVE These socks!  Better than the johnny's</td>\n",
       "      <td>I LOVE these socks. I have gotten SO many comp...</td>\n",
       "      <td>2011-04-04</td>\n",
       "    </tr>\n",
       "    <tr>\n",
       "      <th>5138255</th>\n",
       "      <td>US</td>\n",
       "      <td>44564829</td>\n",
       "      <td>R30UUMOZKBRRXX</td>\n",
       "      <td>B002E79P12</td>\n",
       "      <td>850795213</td>\n",
       "      <td>NaN</td>\n",
       "      <td>Apparel</td>\n",
       "      <td>5.0</td>\n",
       "      <td>0.0</td>\n",
       "      <td>0.0</td>\n",
       "      <td>N</td>\n",
       "      <td>Y</td>\n",
       "      <td>Awesome!</td>\n",
       "      <td>This is a great costume with a great fit. I wa...</td>\n",
       "      <td>2013-11-14</td>\n",
       "    </tr>\n",
       "    <tr>\n",
       "      <th>5138256</th>\n",
       "      <td>US</td>\n",
       "      <td>14697306</td>\n",
       "      <td>R1QNVLI8DC44NZ</td>\n",
       "      <td>B002E79P12</td>\n",
       "      <td>850795213</td>\n",
       "      <td>NaN</td>\n",
       "      <td>Apparel</td>\n",
       "      <td>4.0</td>\n",
       "      <td>0.0</td>\n",
       "      <td>0.0</td>\n",
       "      <td>N</td>\n",
       "      <td>Y</td>\n",
       "      <td>very nice affordable costume</td>\n",
       "      <td>its a good product for the price. She is a lit...</td>\n",
       "      <td>2013-11-04</td>\n",
       "    </tr>\n",
       "    <tr>\n",
       "      <th>5456282</th>\n",
       "      <td>US</td>\n",
       "      <td>45621978</td>\n",
       "      <td>R2UHXP9LKUWN2W</td>\n",
       "      <td>B0013EARY6</td>\n",
       "      <td>200061153</td>\n",
       "      <td>NaN</td>\n",
       "      <td>Apparel</td>\n",
       "      <td>1.0</td>\n",
       "      <td>0.0</td>\n",
       "      <td>0.0</td>\n",
       "      <td>N</td>\n",
       "      <td>N</td>\n",
       "      <td>do not buy from here.</td>\n",
       "      <td>DO NOT BUY FROM BLANK APPAREL.   I RECENTLY OR...</td>\n",
       "      <td>2009-04-30</td>\n",
       "    </tr>\n",
       "  </tbody>\n",
       "</table>\n",
       "</div>"
      ],
      "text/plain": [
       "        marketplace  customer_id       review_id  product_id  product_parent product_title product_category  star_rating  helpful_votes  total_votes vine verified_purchase                                    review_headline                                        review_body review_date\n",
       "2057069          US     31066166   RXOXMCG7FC6H9  B00FRHQ8DE       226468496           NaN          Apparel          4.0            0.0          0.0    N                 Y                                          nice tee.          5 Y.O. loves this. washes well. nice tee.  2015-08-13\n",
       "3456219          US     11676819  R1UZ28EB5L4J2X  B0091K6J5U       874311479           NaN          Apparel          4.0            0.0          0.0    N                 Y                                      Looked great!  My family and I all went as a group of Ninja T...  2013-11-14\n",
       "4266530          US     22298646  R3JBU6LK2H6RVP  B005HBC4GK       172240882           NaN          Apparel          5.0            0.0          0.0    N                 Y                             wow..love love love it  I bought one mudium size wallet before..Love i...  2013-09-05\n",
       "4574558          US     24125287  R1VQNEGPSTLIZT  B004L6S3P8       957973758           NaN          Apparel          5.0            7.0          7.0    N                 Y  BEST PAJAMAS I HAVE EVER GIVEN MY LADY, TRUST ...  SILKY SMOOTH BEST EVER, PACKAGING WAS BAUTIFUL...  2011-09-18\n",
       "4574559          US     11312068   RBT8FHIIMWYXB  B004L6S3P8       957973758           NaN          Apparel          5.0            1.0          1.0    N                 Y                                          Winning!!  This was a gift for my girlfriend (although I ...  2012-01-17\n",
       "4574560          US     22681496   RM7C2WEXDG8I3  B004L6S3P8       957973758           NaN          Apparel          5.0            1.0          1.0    N                 Y                Completly exceeded my expectations!  The pajama's came in a beautiful box.  The com...  2011-03-17\n",
       "4574653          US     19052279  R1YJKPR1514ASV  B004L6NDKI       303715829           NaN          Apparel          5.0            1.0          1.0    N                 Y                                       silk pajamas  Very comfortable thankyou Although the sleeves...  2011-10-03\n",
       "4574654          US     40404975  R3FI6MBA3E7KF6  B004L6NDGW       858482646           NaN          Apparel          4.0            2.0          3.0    N                 Y                                       I love silk!  The silk pj's I purchased are lovely, but a li...  2011-12-21\n",
       "4954464          US     52729995  R1BZ32ZOPBINJH  B003690PPM       272676701           NaN          Apparel          5.0            0.0          0.0    N                 Y        LOVE These socks!  Better than the johnny's  I LOVE these socks. I have gotten SO many comp...  2011-04-04\n",
       "5138255          US     44564829  R30UUMOZKBRRXX  B002E79P12       850795213           NaN          Apparel          5.0            0.0          0.0    N                 Y                                           Awesome!  This is a great costume with a great fit. I wa...  2013-11-14\n",
       "5138256          US     14697306  R1QNVLI8DC44NZ  B002E79P12       850795213           NaN          Apparel          4.0            0.0          0.0    N                 Y                       very nice affordable costume  its a good product for the price. She is a lit...  2013-11-04\n",
       "5456282          US     45621978  R2UHXP9LKUWN2W  B0013EARY6       200061153           NaN          Apparel          1.0            0.0          0.0    N                 N                              do not buy from here.  DO NOT BUY FROM BLANK APPAREL.   I RECENTLY OR...  2009-04-30"
      ]
     },
     "execution_count": 17,
     "metadata": {},
     "output_type": "execute_result"
    }
   ],
   "source": [
    "# checking if there are any NULLS \n",
    "df['product_title'].isna().sum()\n",
    "df[df['product_title'].isna()]"
   ]
  },
  {
   "cell_type": "code",
   "execution_count": 18,
   "id": "7809b213",
   "metadata": {
    "scrolled": true
   },
   "outputs": [
    {
     "data": {
      "text/plain": [
       "5.0    3306796\n",
       "4.0    1142572\n",
       "3.0     620868\n",
       "1.0     443522\n",
       "2.0     368115\n",
       "Name: star_rating, dtype: int64"
      ]
     },
     "execution_count": 18,
     "metadata": {},
     "output_type": "execute_result"
    }
   ],
   "source": [
    "df.star_rating.value_counts()"
   ]
  },
  {
   "cell_type": "code",
   "execution_count": 22,
   "id": "d307888a",
   "metadata": {},
   "outputs": [
    {
     "name": "stdout",
     "output_type": "stream",
     "text": [
      "Collecting textblob\n",
      "  Downloading textblob-0.17.1-py2.py3-none-any.whl (636 kB)\n",
      "\u001b[K     |████████████████████████████████| 636 kB 4.1 MB/s eta 0:00:01\n",
      "\u001b[?25hRequirement already satisfied: nltk>=3.1 in /Users/kothaapuroop/opt/anaconda3/lib/python3.9/site-packages (from textblob) (3.7)\n",
      "Requirement already satisfied: tqdm in /Users/kothaapuroop/opt/anaconda3/lib/python3.9/site-packages (from nltk>=3.1->textblob) (4.64.0)\n",
      "Requirement already satisfied: regex>=2021.8.3 in /Users/kothaapuroop/opt/anaconda3/lib/python3.9/site-packages (from nltk>=3.1->textblob) (2022.3.15)\n",
      "Requirement already satisfied: joblib in /Users/kothaapuroop/opt/anaconda3/lib/python3.9/site-packages (from nltk>=3.1->textblob) (1.1.0)\n",
      "Requirement already satisfied: click in /Users/kothaapuroop/opt/anaconda3/lib/python3.9/site-packages (from nltk>=3.1->textblob) (8.0.4)\n",
      "Installing collected packages: textblob\n",
      "Successfully installed textblob-0.17.1\n",
      "Note: you may need to restart the kernel to use updated packages.\n"
     ]
    }
   ],
   "source": [
    "# installing the library for sentiment analysis\n",
    "pip install textblob"
   ]
  },
  {
   "cell_type": "markdown",
   "id": "81d1f5c0",
   "metadata": {},
   "source": [
    "TextBlob is a Python library that provides a simple and intuitive interface for common natural language processing (NLP) tasks. It is built on top of NLTK (Natural Language Toolkit) and Pattern, and it offers a higher-level abstraction for tasks like text processing, sentiment analysis, part-of-speech tagging, language translation, and more. Here are a few key points about the TextBlob library:\n",
    "\n",
    "1. **Ease of Use**: TextBlob is designed to be user-friendly and accessible, making it a great choice for beginners in NLP. Its API is straightforward and intuitive, allowing users to perform complex NLP tasks with just a few lines of code.\n",
    "\n",
    "2. **Sentiment Analysis**: One of the prominent features of TextBlob is sentiment analysis. It can determine whether a piece of text expresses positive, negative, or neutral sentiment. This feature is useful for analyzing opinions, reviews, and social media content.\n",
    "\n",
    "3. **Part-of-Speech Tagging**: TextBlob provides part-of-speech tagging, which involves categorizing words in a sentence as nouns, verbs, adjectives, adverbs, etc. This can be helpful for extracting insights about the grammatical structure of text.\n",
    "\n",
    "4. **Noun Phrase Extraction**: TextBlob can extract noun phrases from text, which are sequences of words that represent a noun and its modifiers. This feature is useful for identifying key concepts and entities in a text.\n",
    "\n",
    "5. **Language Translation and Detection**: TextBlob supports language translation between different languages and can automatically detect the language of a given text. It utilizes the Google Translate API for translation.\n",
    "\n",
    "6. **Text Classification**: TextBlob includes a simple API for performing text classification tasks. While it may not be as advanced as some dedicated machine learning libraries, it can be useful for basic text categorization.\n",
    "\n",
    "7. **Word and Phrase Tokenization**: TextBlob can tokenize text into words and sentences. This is a fundamental step in many NLP tasks, as it breaks down the input text into manageable units for further analysis.\n",
    "\n",
    "8. **Pluralization and Singularization**: TextBlob can be used to pluralize or singularize words, which can be helpful for tasks like data preprocessing or generating text.\n",
    "\n",
    "9. **Spell Checking and Correction**: The library offers spell checking and correction capabilities, allowing you to identify and correct spelling errors in text.\n",
    "\n",
    "10. **Extensibility**: TextBlob is built on top of NLTK and Pattern, which means you can leverage their functionalities and extend TextBlob's capabilities with your own customizations.\n",
    "\n",
    "While TextBlob is excellent for simple NLP tasks and quick analyses, it may not be suitable for more advanced or specialized NLP tasks that require fine-tuned models or in-depth linguistic analysis. However, its simplicity and ease of use make it a great tool for educational purposes, rapid prototyping, and basic text processing needs."
   ]
  },
  {
   "cell_type": "code",
   "execution_count": 23,
   "id": "da3a2213",
   "metadata": {},
   "outputs": [],
   "source": [
    "# importing the required libraries \n",
    "import pandas as pd\n",
    "from textblob import TextBlob\n",
    "from datetime import datetime"
   ]
  },
  {
   "cell_type": "code",
   "execution_count": 25,
   "id": "598441e7",
   "metadata": {},
   "outputs": [],
   "source": [
    "# Define a function to categorize sentiment\n",
    "def categorize_sentiment(polarity):\n",
    "    if polarity > 0:\n",
    "        return 'positive'\n",
    "    elif polarity < 0:\n",
    "        return 'negative'\n",
    "    else:\n",
    "        return 'neutral'"
   ]
  },
  {
   "cell_type": "code",
   "execution_count": 27,
   "id": "8bb4027c",
   "metadata": {},
   "outputs": [],
   "source": [
    "# Performing the sentiment analysis on review_headline and review_body\n",
    "df['headline_sentiment'] = df['review_headline'].apply(lambda x: TextBlob(str(x)).sentiment.polarity)\n",
    "df['body_sentiment'] = df['review_body'].apply(lambda x: TextBlob(str(x)).sentiment.polarity)"
   ]
  },
  {
   "cell_type": "code",
   "execution_count": 28,
   "id": "afe0b3cf",
   "metadata": {},
   "outputs": [],
   "source": [
    "# Apply sentiment categorization to each row\n",
    "df['headline_sentiment_category'] = df['headline_sentiment'].apply(categorize_sentiment)\n",
    "df['body_sentiment_category'] = df['body_sentiment'].apply(categorize_sentiment)"
   ]
  },
  {
   "cell_type": "code",
   "execution_count": 29,
   "id": "40679906",
   "metadata": {
    "scrolled": false
   },
   "outputs": [
    {
     "data": {
      "text/html": [
       "<div>\n",
       "<style scoped>\n",
       "    .dataframe tbody tr th:only-of-type {\n",
       "        vertical-align: middle;\n",
       "    }\n",
       "\n",
       "    .dataframe tbody tr th {\n",
       "        vertical-align: top;\n",
       "    }\n",
       "\n",
       "    .dataframe thead th {\n",
       "        text-align: right;\n",
       "    }\n",
       "</style>\n",
       "<table border=\"1\" class=\"dataframe\">\n",
       "  <thead>\n",
       "    <tr style=\"text-align: right;\">\n",
       "      <th></th>\n",
       "      <th>marketplace</th>\n",
       "      <th>customer_id</th>\n",
       "      <th>review_id</th>\n",
       "      <th>product_id</th>\n",
       "      <th>product_parent</th>\n",
       "      <th>product_title</th>\n",
       "      <th>product_category</th>\n",
       "      <th>star_rating</th>\n",
       "      <th>helpful_votes</th>\n",
       "      <th>total_votes</th>\n",
       "      <th>vine</th>\n",
       "      <th>verified_purchase</th>\n",
       "      <th>review_headline</th>\n",
       "      <th>review_body</th>\n",
       "      <th>review_date</th>\n",
       "      <th>headline_sentiment</th>\n",
       "      <th>body_sentiment</th>\n",
       "      <th>headline_sentiment_category</th>\n",
       "      <th>body_sentiment_category</th>\n",
       "    </tr>\n",
       "  </thead>\n",
       "  <tbody>\n",
       "    <tr>\n",
       "      <th>0</th>\n",
       "      <td>US</td>\n",
       "      <td>32158956</td>\n",
       "      <td>R1KKOXHNI8MSXU</td>\n",
       "      <td>B01KL6O72Y</td>\n",
       "      <td>24485154</td>\n",
       "      <td>Easy Tool Stainless Steel Fruit Pineapple Core...</td>\n",
       "      <td>Apparel</td>\n",
       "      <td>4.0</td>\n",
       "      <td>0.0</td>\n",
       "      <td>0.0</td>\n",
       "      <td>N</td>\n",
       "      <td>Y</td>\n",
       "      <td>★ THESE REALLY DO WORK GREAT WITH SOME TWEAKING ★</td>\n",
       "      <td>These Really Do Work Great, But You Do Need To...</td>\n",
       "      <td>2013-01-14</td>\n",
       "      <td>0.5000</td>\n",
       "      <td>0.123271</td>\n",
       "      <td>positive</td>\n",
       "      <td>positive</td>\n",
       "    </tr>\n",
       "    <tr>\n",
       "      <th>1</th>\n",
       "      <td>US</td>\n",
       "      <td>2714559</td>\n",
       "      <td>R26SP2OPDK4HT7</td>\n",
       "      <td>B01ID3ZS5W</td>\n",
       "      <td>363128556</td>\n",
       "      <td>V28 Women Cowl Neck Knit Stretchable Elasticit...</td>\n",
       "      <td>Apparel</td>\n",
       "      <td>5.0</td>\n",
       "      <td>1.0</td>\n",
       "      <td>2.0</td>\n",
       "      <td>N</td>\n",
       "      <td>Y</td>\n",
       "      <td>Favorite for winter. Very warm!</td>\n",
       "      <td>I love this dress. Absolute favorite for winte...</td>\n",
       "      <td>2014-03-04</td>\n",
       "      <td>0.7375</td>\n",
       "      <td>0.279671</td>\n",
       "      <td>positive</td>\n",
       "      <td>positive</td>\n",
       "    </tr>\n",
       "    <tr>\n",
       "      <th>2</th>\n",
       "      <td>US</td>\n",
       "      <td>12608825</td>\n",
       "      <td>RWQEDYAX373I1</td>\n",
       "      <td>B01I497BGY</td>\n",
       "      <td>811958549</td>\n",
       "      <td>James Fiallo Men's 12-Pairs Low Cut Athletic S...</td>\n",
       "      <td>Apparel</td>\n",
       "      <td>5.0</td>\n",
       "      <td>0.0</td>\n",
       "      <td>0.0</td>\n",
       "      <td>N</td>\n",
       "      <td>Y</td>\n",
       "      <td>Great Socks for the money.</td>\n",
       "      <td>Nice socks, great colors, just enough support ...</td>\n",
       "      <td>2015-07-12</td>\n",
       "      <td>0.8000</td>\n",
       "      <td>0.525000</td>\n",
       "      <td>positive</td>\n",
       "      <td>positive</td>\n",
       "    </tr>\n",
       "    <tr>\n",
       "      <th>3</th>\n",
       "      <td>US</td>\n",
       "      <td>25482800</td>\n",
       "      <td>R231YI7R4GPF6J</td>\n",
       "      <td>B01HDXFZK6</td>\n",
       "      <td>692205728</td>\n",
       "      <td>Belfry Gangster 100% Wool Stain-Resistant Crus...</td>\n",
       "      <td>Apparel</td>\n",
       "      <td>5.0</td>\n",
       "      <td>0.0</td>\n",
       "      <td>0.0</td>\n",
       "      <td>N</td>\n",
       "      <td>Y</td>\n",
       "      <td>Slick hat!</td>\n",
       "      <td>I bought this for my husband and WOW, this is ...</td>\n",
       "      <td>2015-06-03</td>\n",
       "      <td>-0.3125</td>\n",
       "      <td>0.146000</td>\n",
       "      <td>negative</td>\n",
       "      <td>positive</td>\n",
       "    </tr>\n",
       "    <tr>\n",
       "      <th>4</th>\n",
       "      <td>US</td>\n",
       "      <td>9310286</td>\n",
       "      <td>R3KO3W45DD0L1K</td>\n",
       "      <td>B01G6MBEBY</td>\n",
       "      <td>431150422</td>\n",
       "      <td>JAEDEN Women's Beaded Spaghetti Straps Sexy Lo...</td>\n",
       "      <td>Apparel</td>\n",
       "      <td>5.0</td>\n",
       "      <td>0.0</td>\n",
       "      <td>0.0</td>\n",
       "      <td>N</td>\n",
       "      <td>Y</td>\n",
       "      <td>I would do it again!</td>\n",
       "      <td>Perfect dress and the customer service was awe...</td>\n",
       "      <td>2015-06-12</td>\n",
       "      <td>0.0000</td>\n",
       "      <td>1.000000</td>\n",
       "      <td>neutral</td>\n",
       "      <td>positive</td>\n",
       "    </tr>\n",
       "  </tbody>\n",
       "</table>\n",
       "</div>"
      ],
      "text/plain": [
       "  marketplace  customer_id       review_id  product_id  product_parent                                      product_title product_category  star_rating  helpful_votes  total_votes vine verified_purchase                                    review_headline                                        review_body review_date  headline_sentiment  body_sentiment headline_sentiment_category body_sentiment_category\n",
       "0          US     32158956  R1KKOXHNI8MSXU  B01KL6O72Y        24485154  Easy Tool Stainless Steel Fruit Pineapple Core...          Apparel          4.0            0.0          0.0    N                 Y  ★ THESE REALLY DO WORK GREAT WITH SOME TWEAKING ★  These Really Do Work Great, But You Do Need To...  2013-01-14              0.5000        0.123271                    positive                positive\n",
       "1          US      2714559  R26SP2OPDK4HT7  B01ID3ZS5W       363128556  V28 Women Cowl Neck Knit Stretchable Elasticit...          Apparel          5.0            1.0          2.0    N                 Y                    Favorite for winter. Very warm!  I love this dress. Absolute favorite for winte...  2014-03-04              0.7375        0.279671                    positive                positive\n",
       "2          US     12608825   RWQEDYAX373I1  B01I497BGY       811958549  James Fiallo Men's 12-Pairs Low Cut Athletic S...          Apparel          5.0            0.0          0.0    N                 Y                         Great Socks for the money.  Nice socks, great colors, just enough support ...  2015-07-12              0.8000        0.525000                    positive                positive\n",
       "3          US     25482800  R231YI7R4GPF6J  B01HDXFZK6       692205728  Belfry Gangster 100% Wool Stain-Resistant Crus...          Apparel          5.0            0.0          0.0    N                 Y                                         Slick hat!  I bought this for my husband and WOW, this is ...  2015-06-03             -0.3125        0.146000                    negative                positive\n",
       "4          US      9310286  R3KO3W45DD0L1K  B01G6MBEBY       431150422  JAEDEN Women's Beaded Spaghetti Straps Sexy Lo...          Apparel          5.0            0.0          0.0    N                 Y                               I would do it again!  Perfect dress and the customer service was awe...  2015-06-12              0.0000        1.000000                     neutral                positive"
      ]
     },
     "execution_count": 29,
     "metadata": {},
     "output_type": "execute_result"
    }
   ],
   "source": [
    "df.head()"
   ]
  },
  {
   "cell_type": "code",
   "execution_count": 32,
   "id": "3c20c203",
   "metadata": {},
   "outputs": [],
   "source": [
    "# to analyse the most frequent topics and words, importing the required libraries \n",
    "\n",
    "from sklearn.feature_extraction.text import CountVectorizer, TfidfVectorizer\n",
    "from sklearn.decomposition import LatentDirichletAllocation\n",
    "from nltk.corpus import stopwords\n",
    "from nltk.tokenize import word_tokenize\n",
    "import gensim\n",
    "from gensim.corpora import Dictionary\n",
    "from gensim.models import LdaModel\n",
    "import matplotlib.pyplot as plt"
   ]
  },
  {
   "cell_type": "markdown",
   "id": "184f58a3",
   "metadata": {},
   "source": [
    "- `sklearn.feature_extraction.text.CountVectorizer`: Converts a collection of text documents to a matrix of token counts, representing the frequency of words in each document.\n",
    "\n",
    "- `sklearn.feature_extraction.text.TfidfVectorizer`: Converts a collection of text documents to a matrix of TF-IDF (Term Frequency-Inverse Document Frequency) features, capturing the importance of words in documents relative to the entire corpus.\n",
    "\n",
    "- `sklearn.decomposition.LatentDirichletAllocation`: Performs topic modeling using Latent Dirichlet Allocation, a generative statistical model to identify topics in a collection of text documents.\n",
    "\n",
    "- `nltk.corpus.stopwords`: Provides a list of common stopwords (words like \"and,\" \"the,\" \"is,\" etc.) that are often removed from text during preprocessing.\n",
    "\n",
    "- `nltk.tokenize.word_tokenize`: Tokenizes a text string into words, splitting sentences into individual tokens.\n",
    "\n",
    "- `gensim`: A library for topic modeling, document similarity analysis, and word embedding using advanced NLP models.\n",
    "\n",
    "- `gensim.corpora.Dictionary`: Creates a dictionary of unique words from a collection of text documents, mapping each word to a unique integer ID.\n",
    "\n",
    "- `gensim.models.LdaModel`: Implements Latent Dirichlet Allocation for topic modeling, allowing the identification of underlying topics in a set of documents.\n",
    "\n",
    "- `matplotlib.pyplot`: A data visualization library in Python, used here to create various plots and graphs to visualize data, such as topic distributions in topic modeling."
   ]
  },
  {
   "cell_type": "code",
   "execution_count": 33,
   "id": "04af461d",
   "metadata": {},
   "outputs": [
    {
     "data": {
      "text/html": [
       "<div>\n",
       "<style scoped>\n",
       "    .dataframe tbody tr th:only-of-type {\n",
       "        vertical-align: middle;\n",
       "    }\n",
       "\n",
       "    .dataframe tbody tr th {\n",
       "        vertical-align: top;\n",
       "    }\n",
       "\n",
       "    .dataframe thead th {\n",
       "        text-align: right;\n",
       "    }\n",
       "</style>\n",
       "<table border=\"1\" class=\"dataframe\">\n",
       "  <thead>\n",
       "    <tr style=\"text-align: right;\">\n",
       "      <th></th>\n",
       "      <th>marketplace</th>\n",
       "      <th>customer_id</th>\n",
       "      <th>review_id</th>\n",
       "      <th>product_id</th>\n",
       "      <th>product_parent</th>\n",
       "      <th>product_title</th>\n",
       "      <th>product_category</th>\n",
       "      <th>star_rating</th>\n",
       "      <th>helpful_votes</th>\n",
       "      <th>total_votes</th>\n",
       "      <th>vine</th>\n",
       "      <th>verified_purchase</th>\n",
       "      <th>review_headline</th>\n",
       "      <th>review_body</th>\n",
       "      <th>headline_sentiment</th>\n",
       "      <th>body_sentiment</th>\n",
       "      <th>headline_sentiment_category</th>\n",
       "      <th>body_sentiment_category</th>\n",
       "      <th>full_review</th>\n",
       "    </tr>\n",
       "    <tr>\n",
       "      <th>review_date</th>\n",
       "      <th></th>\n",
       "      <th></th>\n",
       "      <th></th>\n",
       "      <th></th>\n",
       "      <th></th>\n",
       "      <th></th>\n",
       "      <th></th>\n",
       "      <th></th>\n",
       "      <th></th>\n",
       "      <th></th>\n",
       "      <th></th>\n",
       "      <th></th>\n",
       "      <th></th>\n",
       "      <th></th>\n",
       "      <th></th>\n",
       "      <th></th>\n",
       "      <th></th>\n",
       "      <th></th>\n",
       "      <th></th>\n",
       "    </tr>\n",
       "  </thead>\n",
       "  <tbody>\n",
       "    <tr>\n",
       "      <th>2013-01-14</th>\n",
       "      <td>US</td>\n",
       "      <td>32158956</td>\n",
       "      <td>R1KKOXHNI8MSXU</td>\n",
       "      <td>B01KL6O72Y</td>\n",
       "      <td>24485154</td>\n",
       "      <td>Easy Tool Stainless Steel Fruit Pineapple Core...</td>\n",
       "      <td>Apparel</td>\n",
       "      <td>4.0</td>\n",
       "      <td>0.0</td>\n",
       "      <td>0.0</td>\n",
       "      <td>N</td>\n",
       "      <td>Y</td>\n",
       "      <td>★ THESE REALLY DO WORK GREAT WITH SOME TWEAKING ★</td>\n",
       "      <td>These Really Do Work Great, But You Do Need To...</td>\n",
       "      <td>0.5000</td>\n",
       "      <td>0.123271</td>\n",
       "      <td>positive</td>\n",
       "      <td>positive</td>\n",
       "      <td>★ THESE REALLY DO WORK GREAT WITH SOME TWEAKIN...</td>\n",
       "    </tr>\n",
       "    <tr>\n",
       "      <th>2014-03-04</th>\n",
       "      <td>US</td>\n",
       "      <td>2714559</td>\n",
       "      <td>R26SP2OPDK4HT7</td>\n",
       "      <td>B01ID3ZS5W</td>\n",
       "      <td>363128556</td>\n",
       "      <td>V28 Women Cowl Neck Knit Stretchable Elasticit...</td>\n",
       "      <td>Apparel</td>\n",
       "      <td>5.0</td>\n",
       "      <td>1.0</td>\n",
       "      <td>2.0</td>\n",
       "      <td>N</td>\n",
       "      <td>Y</td>\n",
       "      <td>Favorite for winter. Very warm!</td>\n",
       "      <td>I love this dress. Absolute favorite for winte...</td>\n",
       "      <td>0.7375</td>\n",
       "      <td>0.279671</td>\n",
       "      <td>positive</td>\n",
       "      <td>positive</td>\n",
       "      <td>Favorite for winter. Very warm! I love this dr...</td>\n",
       "    </tr>\n",
       "    <tr>\n",
       "      <th>2015-07-12</th>\n",
       "      <td>US</td>\n",
       "      <td>12608825</td>\n",
       "      <td>RWQEDYAX373I1</td>\n",
       "      <td>B01I497BGY</td>\n",
       "      <td>811958549</td>\n",
       "      <td>James Fiallo Men's 12-Pairs Low Cut Athletic S...</td>\n",
       "      <td>Apparel</td>\n",
       "      <td>5.0</td>\n",
       "      <td>0.0</td>\n",
       "      <td>0.0</td>\n",
       "      <td>N</td>\n",
       "      <td>Y</td>\n",
       "      <td>Great Socks for the money.</td>\n",
       "      <td>Nice socks, great colors, just enough support ...</td>\n",
       "      <td>0.8000</td>\n",
       "      <td>0.525000</td>\n",
       "      <td>positive</td>\n",
       "      <td>positive</td>\n",
       "      <td>Great Socks for the money. Nice socks, great c...</td>\n",
       "    </tr>\n",
       "    <tr>\n",
       "      <th>2015-06-03</th>\n",
       "      <td>US</td>\n",
       "      <td>25482800</td>\n",
       "      <td>R231YI7R4GPF6J</td>\n",
       "      <td>B01HDXFZK6</td>\n",
       "      <td>692205728</td>\n",
       "      <td>Belfry Gangster 100% Wool Stain-Resistant Crus...</td>\n",
       "      <td>Apparel</td>\n",
       "      <td>5.0</td>\n",
       "      <td>0.0</td>\n",
       "      <td>0.0</td>\n",
       "      <td>N</td>\n",
       "      <td>Y</td>\n",
       "      <td>Slick hat!</td>\n",
       "      <td>I bought this for my husband and WOW, this is ...</td>\n",
       "      <td>-0.3125</td>\n",
       "      <td>0.146000</td>\n",
       "      <td>negative</td>\n",
       "      <td>positive</td>\n",
       "      <td>Slick hat! I bought this for my husband and WO...</td>\n",
       "    </tr>\n",
       "    <tr>\n",
       "      <th>2015-06-12</th>\n",
       "      <td>US</td>\n",
       "      <td>9310286</td>\n",
       "      <td>R3KO3W45DD0L1K</td>\n",
       "      <td>B01G6MBEBY</td>\n",
       "      <td>431150422</td>\n",
       "      <td>JAEDEN Women's Beaded Spaghetti Straps Sexy Lo...</td>\n",
       "      <td>Apparel</td>\n",
       "      <td>5.0</td>\n",
       "      <td>0.0</td>\n",
       "      <td>0.0</td>\n",
       "      <td>N</td>\n",
       "      <td>Y</td>\n",
       "      <td>I would do it again!</td>\n",
       "      <td>Perfect dress and the customer service was awe...</td>\n",
       "      <td>0.0000</td>\n",
       "      <td>1.000000</td>\n",
       "      <td>neutral</td>\n",
       "      <td>positive</td>\n",
       "      <td>I would do it again! Perfect dress and the cus...</td>\n",
       "    </tr>\n",
       "  </tbody>\n",
       "</table>\n",
       "</div>"
      ],
      "text/plain": [
       "            marketplace  customer_id       review_id  product_id  product_parent                                      product_title product_category  star_rating  helpful_votes  total_votes vine verified_purchase                                    review_headline                                        review_body  headline_sentiment  body_sentiment headline_sentiment_category body_sentiment_category                                        full_review\n",
       "review_date                                                                                                                                                                                                                                                                                                                                                                                                                                                          \n",
       "2013-01-14           US     32158956  R1KKOXHNI8MSXU  B01KL6O72Y        24485154  Easy Tool Stainless Steel Fruit Pineapple Core...          Apparel          4.0            0.0          0.0    N                 Y  ★ THESE REALLY DO WORK GREAT WITH SOME TWEAKING ★  These Really Do Work Great, But You Do Need To...              0.5000        0.123271                    positive                positive  ★ THESE REALLY DO WORK GREAT WITH SOME TWEAKIN...\n",
       "2014-03-04           US      2714559  R26SP2OPDK4HT7  B01ID3ZS5W       363128556  V28 Women Cowl Neck Knit Stretchable Elasticit...          Apparel          5.0            1.0          2.0    N                 Y                    Favorite for winter. Very warm!  I love this dress. Absolute favorite for winte...              0.7375        0.279671                    positive                positive  Favorite for winter. Very warm! I love this dr...\n",
       "2015-07-12           US     12608825   RWQEDYAX373I1  B01I497BGY       811958549  James Fiallo Men's 12-Pairs Low Cut Athletic S...          Apparel          5.0            0.0          0.0    N                 Y                         Great Socks for the money.  Nice socks, great colors, just enough support ...              0.8000        0.525000                    positive                positive  Great Socks for the money. Nice socks, great c...\n",
       "2015-06-03           US     25482800  R231YI7R4GPF6J  B01HDXFZK6       692205728  Belfry Gangster 100% Wool Stain-Resistant Crus...          Apparel          5.0            0.0          0.0    N                 Y                                         Slick hat!  I bought this for my husband and WOW, this is ...             -0.3125        0.146000                    negative                positive  Slick hat! I bought this for my husband and WO...\n",
       "2015-06-12           US      9310286  R3KO3W45DD0L1K  B01G6MBEBY       431150422  JAEDEN Women's Beaded Spaghetti Straps Sexy Lo...          Apparel          5.0            0.0          0.0    N                 Y                               I would do it again!  Perfect dress and the customer service was awe...              0.0000        1.000000                     neutral                positive  I would do it again! Perfect dress and the cus..."
      ]
     },
     "execution_count": 33,
     "metadata": {},
     "output_type": "execute_result"
    }
   ],
   "source": [
    "# Concatenate review_headline and review_body to create a text column\n",
    "df['full_review'] = df['review_headline'] + ' ' + df['review_body']\n",
    "df.head()"
   ]
  },
  {
   "cell_type": "code",
   "execution_count": 36,
   "id": "3aa0c78a",
   "metadata": {},
   "outputs": [],
   "source": [
    "# Drop rows with missing values in the 'full_review' column\n",
    "df.dropna(subset=['full_review'], inplace=True)"
   ]
  },
  {
   "cell_type": "code",
   "execution_count": 37,
   "id": "e3e21653",
   "metadata": {},
   "outputs": [],
   "source": [
    "# Preprocess text data\n",
    "def preprocess_text(text):\n",
    "    if isinstance(text, str):\n",
    "        stop_words = set(stopwords.words('english'))\n",
    "        tokens = word_tokenize(text.lower())\n",
    "        tokens = [word for word in tokens if word.isalnum()]\n",
    "        tokens = [word for word in tokens if word not in stop_words]\n",
    "        return tokens\n",
    "    return []"
   ]
  },
  {
   "cell_type": "code",
   "execution_count": 38,
   "id": "d742f668",
   "metadata": {
    "scrolled": true
   },
   "outputs": [],
   "source": [
    "df['cleaned_tokens'] = df['full_review'].apply(preprocess_text)"
   ]
  },
  {
   "cell_type": "code",
   "execution_count": 39,
   "id": "80113c19",
   "metadata": {},
   "outputs": [],
   "source": [
    "# Create a dictionary of cleaned tokens\n",
    "dictionary = Dictionary(df['cleaned_tokens'])"
   ]
  },
  {
   "cell_type": "code",
   "execution_count": 40,
   "id": "1967a620",
   "metadata": {},
   "outputs": [],
   "source": [
    "# Create a bag-of-words corpus\n",
    "corpus = [dictionary.doc2bow(tokens) for tokens in df['cleaned_tokens']]"
   ]
  },
  {
   "cell_type": "code",
   "execution_count": 41,
   "id": "0c998760",
   "metadata": {},
   "outputs": [],
   "source": [
    "# Train an LDA model\n",
    "num_topics = 15  # You can adjust the number of topics as needed\n",
    "lda_model = LdaModel(corpus, num_topics=num_topics, id2word=dictionary)"
   ]
  },
  {
   "cell_type": "markdown",
   "id": "d73ffe1b",
   "metadata": {},
   "source": [
    "Latent Dirichlet Allocation (LDA) is a generative statistical model used for topic modeling in natural language processing (NLP) and text analysis. It is a popular technique for discovering hidden topics in a collection of text documents. LDA assumes that each document in the collection is a mixture of a small number of topics, and each word in a document is attributable to one of the document's topics."
   ]
  },
  {
   "cell_type": "code",
   "execution_count": 42,
   "id": "768264e8",
   "metadata": {},
   "outputs": [],
   "source": [
    "# Get the most frequent words in each topic\n",
    "topics_words = lda_model.print_topics(num_words=5)"
   ]
  },
  {
   "cell_type": "code",
   "execution_count": 43,
   "id": "635b3b9b",
   "metadata": {},
   "outputs": [
    {
     "name": "stdout",
     "output_type": "stream",
     "text": [
      "(0, '0.027*\"like\" + 0.022*\"34\" + 0.013*\"long\" + 0.013*\"waist\" + 0.013*\"fit\"')\n",
      "(1, '0.335*\"stars\" + 0.218*\"five\" + 0.073*\"four\" + 0.059*\"three\" + 0.048*\"great\"')\n",
      "(2, '0.116*\"size\" + 0.059*\"small\" + 0.042*\"ordered\" + 0.038*\"large\" + 0.027*\"fit\"')\n",
      "(3, '0.106*\"shirt\" + 0.048*\"husband\" + 0.043*\"shirts\" + 0.033*\"great\" + 0.029*\"bought\"')\n",
      "(4, '0.203*\"br\" + 0.023*\"belt\" + 0.013*\"gold\" + 0.013*\"product\" + 0.011*\"review\"')\n",
      "(5, '0.065*\"little\" + 0.052*\"top\" + 0.033*\"shorts\" + 0.033*\"well\" + 0.029*\"fit\"')\n",
      "(6, '0.195*\"one\" + 0.126*\"bra\" + 0.069*\"best\" + 0.053*\"comfortable\" + 0.041*\"ever\"')\n",
      "(7, '0.041*\"warm\" + 0.041*\"nice\" + 0.040*\"soft\" + 0.039*\"color\" + 0.037*\"jacket\"')\n",
      "(8, '0.094*\"quality\" + 0.088*\"good\" + 0.087*\"great\" + 0.063*\"price\" + 0.052*\"product\"')\n",
      "(9, '0.132*\"like\" + 0.073*\"looks\" + 0.070*\"hat\" + 0.036*\"good\" + 0.033*\"look\"')\n",
      "(10, '0.037*\"socks\" + 0.019*\"time\" + 0.017*\"get\" + 0.017*\"years\" + 0.016*\"first\"')\n",
      "(11, '0.023*\"wallet\" + 0.023*\"bag\" + 0.019*\"use\" + 0.017*\"well\" + 0.017*\"easy\"')\n",
      "(12, '0.072*\"costume\" + 0.061*\"old\" + 0.048*\"year\" + 0.044*\"money\" + 0.031*\"daughter\"')\n",
      "(13, '0.119*\"pants\" + 0.109*\"jeans\" + 0.075*\"fit\" + 0.063*\"two\" + 0.059*\"pair\"')\n",
      "(14, '0.094*\"love\" + 0.062*\"great\" + 0.049*\"perfect\" + 0.032*\"dress\" + 0.026*\"wear\"')\n"
     ]
    }
   ],
   "source": [
    "for topic in topics_words:\n",
    "    print(topic)"
   ]
  },
  {
   "cell_type": "code",
   "execution_count": 44,
   "id": "625cd030",
   "metadata": {},
   "outputs": [
    {
     "data": {
      "text/plain": [
       "<BarContainer object of 10 artists>"
      ]
     },
     "execution_count": 44,
     "metadata": {},
     "output_type": "execute_result"
    },
    {
     "data": {
      "text/plain": [
       "Text(0.5, 1.0, 'Topic 0')"
      ]
     },
     "execution_count": 44,
     "metadata": {},
     "output_type": "execute_result"
    },
    {
     "data": {
      "text/plain": [
       "Text(0.5, 0, 'Weight')"
      ]
     },
     "execution_count": 44,
     "metadata": {},
     "output_type": "execute_result"
    },
    {
     "data": {
      "text/plain": [
       "Text(0, 0.5, 'Word')"
      ]
     },
     "execution_count": 44,
     "metadata": {},
     "output_type": "execute_result"
    },
    {
     "data": {
      "image/png": "[encoded data removed]",
      "text/plain": [
       "<Figure size 432x288 with 1 Axes>"
      ]
     },
     "metadata": {
      "needs_background": "light"
     },
     "output_type": "display_data"
    },
    {
     "data": {
      "text/plain": [
       "<BarContainer object of 10 artists>"
      ]
     },
     "execution_count": 44,
     "metadata": {},
     "output_type": "execute_result"
    },
    {
     "data": {
      "text/plain": [
       "Text(0.5, 1.0, 'Topic 1')"
      ]
     },
     "execution_count": 44,
     "metadata": {},
     "output_type": "execute_result"
    },
    {
     "data": {
      "text/plain": [
       "Text(0.5, 0, 'Weight')"
      ]
     },
     "execution_count": 44,
     "metadata": {},
     "output_type": "execute_result"
    },
    {
     "data": {
      "text/plain": [
       "Text(0, 0.5, 'Word')"
      ]
     },
     "execution_count": 44,
     "metadata": {},
     "output_type": "execute_result"
    },
    {
     "data": {
      "image/png": "[encoded data removed]",
      "text/plain": [
       "<Figure size 432x288 with 1 Axes>"
      ]
     },
     "metadata": {
      "needs_background": "light"
     },
     "output_type": "display_data"
    },
    {
     "data": {
      "text/plain": [
       "<BarContainer object of 10 artists>"
      ]
     },
     "execution_count": 44,
     "metadata": {},
     "output_type": "execute_result"
    },
    {
     "data": {
      "text/plain": [
       "Text(0.5, 1.0, 'Topic 2')"
      ]
     },
     "execution_count": 44,
     "metadata": {},
     "output_type": "execute_result"
    },
    {
     "data": {
      "text/plain": [
       "Text(0.5, 0, 'Weight')"
      ]
     },
     "execution_count": 44,
     "metadata": {},
     "output_type": "execute_result"
    },
    {
     "data": {
      "text/plain": [
       "Text(0, 0.5, 'Word')"
      ]
     },
     "execution_count": 44,
     "metadata": {},
     "output_type": "execute_result"
    },
    {
     "data": {
      "image/png": "[encoded data removed]",
      "text/plain": [
       "<Figure size 432x288 with 1 Axes>"
      ]
     },
     "metadata": {
      "needs_background": "light"
     },
     "output_type": "display_data"
    },
    {
     "data": {
      "text/plain": [
       "<BarContainer object of 10 artists>"
      ]
     },
     "execution_count": 44,
     "metadata": {},
     "output_type": "execute_result"
    },
    {
     "data": {
      "text/plain": [
       "Text(0.5, 1.0, 'Topic 3')"
      ]
     },
     "execution_count": 44,
     "metadata": {},
     "output_type": "execute_result"
    },
    {
     "data": {
      "text/plain": [
       "Text(0.5, 0, 'Weight')"
      ]
     },
     "execution_count": 44,
     "metadata": {},
     "output_type": "execute_result"
    },
    {
     "data": {
      "text/plain": [
       "Text(0, 0.5, 'Word')"
      ]
     },
     "execution_count": 44,
     "metadata": {},
     "output_type": "execute_result"
    },
    {
     "data": {
      "image/png": "[encoded data removed]",
      "text/plain": [
       "<Figure size 432x288 with 1 Axes>"
      ]
     },
     "metadata": {
      "needs_background": "light"
     },
     "output_type": "display_data"
    },
    {
     "data": {
      "text/plain": [
       "<BarContainer object of 10 artists>"
      ]
     },
     "execution_count": 44,
     "metadata": {},
     "output_type": "execute_result"
    },
    {
     "data": {
      "text/plain": [
       "Text(0.5, 1.0, 'Topic 4')"
      ]
     },
     "execution_count": 44,
     "metadata": {},
     "output_type": "execute_result"
    },
    {
     "data": {
      "text/plain": [
       "Text(0.5, 0, 'Weight')"
      ]
     },
     "execution_count": 44,
     "metadata": {},
     "output_type": "execute_result"
    },
    {
     "data": {
      "text/plain": [
       "Text(0, 0.5, 'Word')"
      ]
     },
     "execution_count": 44,
     "metadata": {},
     "output_type": "execute_result"
    },
    {
     "data": {
      "image/png": "[encoded data removed]",
      "text/plain": [
       "<Figure size 432x288 with 1 Axes>"
      ]
     },
     "metadata": {
      "needs_background": "light"
     },
     "output_type": "display_data"
    },
    {
     "data": {
      "text/plain": [
       "<BarContainer object of 10 artists>"
      ]
     },
     "execution_count": 44,
     "metadata": {},
     "output_type": "execute_result"
    },
    {
     "data": {
      "text/plain": [
       "Text(0.5, 1.0, 'Topic 5')"
      ]
     },
     "execution_count": 44,
     "metadata": {},
     "output_type": "execute_result"
    },
    {
     "data": {
      "text/plain": [
       "Text(0.5, 0, 'Weight')"
      ]
     },
     "execution_count": 44,
     "metadata": {},
     "output_type": "execute_result"
    },
    {
     "data": {
      "text/plain": [
       "Text(0, 0.5, 'Word')"
      ]
     },
     "execution_count": 44,
     "metadata": {},
     "output_type": "execute_result"
    },
    {
     "data": {
      "image/png": "[encoded data removed]",
      "text/plain": [
       "<Figure size 432x288 with 1 Axes>"
      ]
     },
     "metadata": {
      "needs_background": "light"
     },
     "output_type": "display_data"
    },
    {
     "data": {
      "text/plain": [
       "<BarContainer object of 10 artists>"
      ]
     },
     "execution_count": 44,
     "metadata": {},
     "output_type": "execute_result"
    },
    {
     "data": {
      "text/plain": [
       "Text(0.5, 1.0, 'Topic 6')"
      ]
     },
     "execution_count": 44,
     "metadata": {},
     "output_type": "execute_result"
    },
    {
     "data": {
      "text/plain": [
       "Text(0.5, 0, 'Weight')"
      ]
     },
     "execution_count": 44,
     "metadata": {},
     "output_type": "execute_result"
    },
    {
     "data": {
      "text/plain": [
       "Text(0, 0.5, 'Word')"
      ]
     },
     "execution_count": 44,
     "metadata": {},
     "output_type": "execute_result"
    },
    {
     "data": {
      "image/png": "[encoded data removed]",
      "text/plain": [
       "<Figure size 432x288 with 1 Axes>"
      ]
     },
     "metadata": {
      "needs_background": "light"
     },
     "output_type": "display_data"
    },
    {
     "data": {
      "text/plain": [
       "<BarContainer object of 10 artists>"
      ]
     },
     "execution_count": 44,
     "metadata": {},
     "output_type": "execute_result"
    },
    {
     "data": {
      "text/plain": [
       "Text(0.5, 1.0, 'Topic 7')"
      ]
     },
     "execution_count": 44,
     "metadata": {},
     "output_type": "execute_result"
    },
    {
     "data": {
      "text/plain": [
       "Text(0.5, 0, 'Weight')"
      ]
     },
     "execution_count": 44,
     "metadata": {},
     "output_type": "execute_result"
    },
    {
     "data": {
      "text/plain": [
       "Text(0, 0.5, 'Word')"
      ]
     },
     "execution_count": 44,
     "metadata": {},
     "output_type": "execute_result"
    },
    {
     "data": {
      "image/png": "[encoded data removed]",
      "text/plain": [
       "<Figure size 432x288 with 1 Axes>"
      ]
     },
     "metadata": {
      "needs_background": "light"
     },
     "output_type": "display_data"
    },
    {
     "data": {
      "text/plain": [
       "<BarContainer object of 10 artists>"
      ]
     },
     "execution_count": 44,
     "metadata": {},
     "output_type": "execute_result"
    },
    {
     "data": {
      "text/plain": [
       "Text(0.5, 1.0, 'Topic 8')"
      ]
     },
     "execution_count": 44,
     "metadata": {},
     "output_type": "execute_result"
    },
    {
     "data": {
      "text/plain": [
       "Text(0.5, 0, 'Weight')"
      ]
     },
     "execution_count": 44,
     "metadata": {},
     "output_type": "execute_result"
    },
    {
     "data": {
      "text/plain": [
       "Text(0, 0.5, 'Word')"
      ]
     },
     "execution_count": 44,
     "metadata": {},
     "output_type": "execute_result"
    },
    {
     "data": {
      "image/png": "[encoded data removed]",
      "text/plain": [
       "<Figure size 432x288 with 1 Axes>"
      ]
     },
     "metadata": {
      "needs_background": "light"
     },
     "output_type": "display_data"
    },
    {
     "data": {
      "text/plain": [
       "<BarContainer object of 10 artists>"
      ]
     },
     "execution_count": 44,
     "metadata": {},
     "output_type": "execute_result"
    },
    {
     "data": {
      "text/plain": [
       "Text(0.5, 1.0, 'Topic 9')"
      ]
     },
     "execution_count": 44,
     "metadata": {},
     "output_type": "execute_result"
    },
    {
     "data": {
      "text/plain": [
       "Text(0.5, 0, 'Weight')"
      ]
     },
     "execution_count": 44,
     "metadata": {},
     "output_type": "execute_result"
    },
    {
     "data": {
      "text/plain": [
       "Text(0, 0.5, 'Word')"
      ]
     },
     "execution_count": 44,
     "metadata": {},
     "output_type": "execute_result"
    },
    {
     "data": {
      "image/png": "[encoded data removed]",
      "text/plain": [
       "<Figure size 432x288 with 1 Axes>"
      ]
     },
     "metadata": {
      "needs_background": "light"
     },
     "output_type": "display_data"
    },
    {
     "data": {
      "text/plain": [
       "<BarContainer object of 10 artists>"
      ]
     },
     "execution_count": 44,
     "metadata": {},
     "output_type": "execute_result"
    },
    {
     "data": {
      "text/plain": [
       "Text(0.5, 1.0, 'Topic 10')"
      ]
     },
     "execution_count": 44,
     "metadata": {},
     "output_type": "execute_result"
    },
    {
     "data": {
      "text/plain": [
       "Text(0.5, 0, 'Weight')"
      ]
     },
     "execution_count": 44,
     "metadata": {},
     "output_type": "execute_result"
    },
    {
     "data": {
      "text/plain": [
       "Text(0, 0.5, 'Word')"
      ]
     },
     "execution_count": 44,
     "metadata": {},
     "output_type": "execute_result"
    },
    {
     "data": {
      "image/png": "[encoded data removed]",
      "text/plain": [
       "<Figure size 432x288 with 1 Axes>"
      ]
     },
     "metadata": {
      "needs_background": "light"
     },
     "output_type": "display_data"
    },
    {
     "data": {
      "text/plain": [
       "<BarContainer object of 10 artists>"
      ]
     },
     "execution_count": 44,
     "metadata": {},
     "output_type": "execute_result"
    },
    {
     "data": {
      "text/plain": [
       "Text(0.5, 1.0, 'Topic 11')"
      ]
     },
     "execution_count": 44,
     "metadata": {},
     "output_type": "execute_result"
    },
    {
     "data": {
      "text/plain": [
       "Text(0.5, 0, 'Weight')"
      ]
     },
     "execution_count": 44,
     "metadata": {},
     "output_type": "execute_result"
    },
    {
     "data": {
      "text/plain": [
       "Text(0, 0.5, 'Word')"
      ]
     },
     "execution_count": 44,
     "metadata": {},
     "output_type": "execute_result"
    },
    {
     "data": {
      "image/png": "[encoded data removed]",
      "text/plain": [
       "<Figure size 432x288 with 1 Axes>"
      ]
     },
     "metadata": {
      "needs_background": "light"
     },
     "output_type": "display_data"
    },
    {
     "data": {
      "text/plain": [
       "<BarContainer object of 10 artists>"
      ]
     },
     "execution_count": 44,
     "metadata": {},
     "output_type": "execute_result"
    },
    {
     "data": {
      "text/plain": [
       "Text(0.5, 1.0, 'Topic 12')"
      ]
     },
     "execution_count": 44,
     "metadata": {},
     "output_type": "execute_result"
    },
    {
     "data": {
      "text/plain": [
       "Text(0.5, 0, 'Weight')"
      ]
     },
     "execution_count": 44,
     "metadata": {},
     "output_type": "execute_result"
    },
    {
     "data": {
      "text/plain": [
       "Text(0, 0.5, 'Word')"
      ]
     },
     "execution_count": 44,
     "metadata": {},
     "output_type": "execute_result"
    },
    {
     "data": {
      "image/png": "[encoded data removed]",
      "text/plain": [
       "<Figure size 432x288 with 1 Axes>"
      ]
     },
     "metadata": {
      "needs_background": "light"
     },
     "output_type": "display_data"
    },
    {
     "data": {
      "text/plain": [
       "<BarContainer object of 10 artists>"
      ]
     },
     "execution_count": 44,
     "metadata": {},
     "output_type": "execute_result"
    },
    {
     "data": {
      "text/plain": [
       "Text(0.5, 1.0, 'Topic 13')"
      ]
     },
     "execution_count": 44,
     "metadata": {},
     "output_type": "execute_result"
    },
    {
     "data": {
      "text/plain": [
       "Text(0.5, 0, 'Weight')"
      ]
     },
     "execution_count": 44,
     "metadata": {},
     "output_type": "execute_result"
    },
    {
     "data": {
      "text/plain": [
       "Text(0, 0.5, 'Word')"
      ]
     },
     "execution_count": 44,
     "metadata": {},
     "output_type": "execute_result"
    },
    {
     "data": {
      "image/png": "[encoded data removed]",
      "text/plain": [
       "<Figure size 432x288 with 1 Axes>"
      ]
     },
     "metadata": {
      "needs_background": "light"
     },
     "output_type": "display_data"
    },
    {
     "data": {
      "text/plain": [
       "<BarContainer object of 10 artists>"
      ]
     },
     "execution_count": 44,
     "metadata": {},
     "output_type": "execute_result"
    },
    {
     "data": {
      "text/plain": [
       "Text(0.5, 1.0, 'Topic 14')"
      ]
     },
     "execution_count": 44,
     "metadata": {},
     "output_type": "execute_result"
    },
    {
     "data": {
      "text/plain": [
       "Text(0.5, 0, 'Weight')"
      ]
     },
     "execution_count": 44,
     "metadata": {},
     "output_type": "execute_result"
    },
    {
     "data": {
      "text/plain": [
       "Text(0, 0.5, 'Word')"
      ]
     },
     "execution_count": 44,
     "metadata": {},
     "output_type": "execute_result"
    },
    {
     "data": {
      "image/png": "[encoded data removed]",
      "text/plain": [
       "<Figure size 432x288 with 1 Axes>"
      ]
     },
     "metadata": {
      "needs_background": "light"
     },
     "output_type": "display_data"
    }
   ],
   "source": [
    "# Visualize the topics\n",
    "for topic_id in range(num_topics):\n",
    "    words = lda_model.show_topic(topic_id, topn=10)\n",
    "    topic_words = [word[0] for word in words]\n",
    "    topic_weights = [word[1] for word in words]\n",
    "    plt.barh(topic_words, topic_weights)\n",
    "    plt.title(f\"Topic {topic_id}\")\n",
    "    plt.xlabel(\"Weight\")\n",
    "    plt.ylabel(\"Word\")\n",
    "    plt.show()"
   ]
  },
  {
   "cell_type": "markdown",
   "id": "2b757d60",
   "metadata": {},
   "source": [
    "The output of the above graph is the top 15 topics that were being discussed in the reviews page of Amazon. in each and every topic I have analysed the most frequent used words by the customers. The weight on the X-axis describes the frequency of the word. "
   ]
  }
 ],
 "metadata": {
  "kernelspec": {
   "display_name": "Python 3 (ipykernel)",
   "language": "python",
   "name": "python3"
  },
  "language_info": {
   "codemirror_mode": {
    "name": "ipython",
    "version": 3
   },
   "file_extension": ".py",
   "mimetype": "text/x-python",
   "name": "python",
   "nbconvert_exporter": "python",
   "pygments_lexer": "ipython3",
   "version": "3.9.12"
  }
 },
 "nbformat": 4,
 "nbformat_minor": 5
}
